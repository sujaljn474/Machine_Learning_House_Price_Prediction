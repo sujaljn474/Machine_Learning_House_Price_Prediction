{
 "cells": [
  {
   "cell_type": "markdown",
   "id": "c2480e5f-f496-4d06-9ed1-adc6c19f6667",
   "metadata": {},
   "source": [
    "## House Price Prediction"
   ]
  },
  {
   "cell_type": "markdown",
   "id": "610621cc-c3d2-4e5b-8747-134aa5cb61da",
   "metadata": {},
   "source": [
    "### The objective of a house price prediction in machine learning project is to accurately forecast property values based on various features, facilitating informed real estate decisions."
   ]
  },
  {
   "cell_type": "markdown",
   "id": "97063d3d-befb-4061-88eb-2f79c7e72add",
   "metadata": {},
   "source": [
    "#### import required packages"
   ]
  },
  {
   "cell_type": "code",
   "execution_count": 23,
   "id": "14e0b8d1-1fa6-459b-9956-e719ae73bb48",
   "metadata": {},
   "outputs": [],
   "source": [
    "import numpy as np\n",
    "import pandas as pd\n",
    "import matplotlib.pyplot as plt\n",
    "import seaborn as sns\n",
    "import pickle"
   ]
  },
  {
   "cell_type": "markdown",
   "id": "5deff834-b848-42fe-945c-82887a1f4a5a",
   "metadata": {},
   "source": [
    "#### load/read the data from source"
   ]
  },
  {
   "cell_type": "code",
   "execution_count": 24,
   "id": "3ff64bd6-b9f5-4588-8d53-ba2f1dbc0c2e",
   "metadata": {},
   "outputs": [
    {
     "data": {
      "text/html": [
       "<div>\n",
       "<style scoped>\n",
       "    .dataframe tbody tr th:only-of-type {\n",
       "        vertical-align: middle;\n",
       "    }\n",
       "\n",
       "    .dataframe tbody tr th {\n",
       "        vertical-align: top;\n",
       "    }\n",
       "\n",
       "    .dataframe thead th {\n",
       "        text-align: right;\n",
       "    }\n",
       "</style>\n",
       "<table border=\"1\" class=\"dataframe\">\n",
       "  <thead>\n",
       "    <tr style=\"text-align: right;\">\n",
       "      <th></th>\n",
       "      <th>Unnamed: 0</th>\n",
       "      <th>Size</th>\n",
       "      <th>Society</th>\n",
       "      <th>Location</th>\n",
       "      <th>total_sqft</th>\n",
       "      <th>Available by</th>\n",
       "      <th>Age(in yrs)</th>\n",
       "      <th>Status</th>\n",
       "      <th>Price(In Lakhs)</th>\n",
       "    </tr>\n",
       "  </thead>\n",
       "  <tbody>\n",
       "    <tr>\n",
       "      <th>0</th>\n",
       "      <td>NaN</td>\n",
       "      <td>2</td>\n",
       "      <td>Millennium Pacific</td>\n",
       "      <td>Tathawade</td>\n",
       "      <td>650</td>\n",
       "      <td>Sep 2025</td>\n",
       "      <td>0</td>\n",
       "      <td>New</td>\n",
       "      <td>62.77</td>\n",
       "    </tr>\n",
       "    <tr>\n",
       "      <th>1</th>\n",
       "      <td>0.0</td>\n",
       "      <td>3</td>\n",
       "      <td>Bhandari 43 Privet Drive C Building</td>\n",
       "      <td>Balewadi</td>\n",
       "      <td>1465</td>\n",
       "      <td>Aug 2023</td>\n",
       "      <td>0</td>\n",
       "      <td>New</td>\n",
       "      <td>228.00</td>\n",
       "    </tr>\n",
       "    <tr>\n",
       "      <th>2</th>\n",
       "      <td>1.0</td>\n",
       "      <td>2</td>\n",
       "      <td>Malpani Cereza</td>\n",
       "      <td>Tathawade</td>\n",
       "      <td>1012</td>\n",
       "      <td>Feb 2023</td>\n",
       "      <td>0</td>\n",
       "      <td>New</td>\n",
       "      <td>45.50</td>\n",
       "    </tr>\n",
       "    <tr>\n",
       "      <th>3</th>\n",
       "      <td>2.0</td>\n",
       "      <td>2</td>\n",
       "      <td>Kohinoor Viva City</td>\n",
       "      <td>Dhanori</td>\n",
       "      <td>734</td>\n",
       "      <td>Dec 2026</td>\n",
       "      <td>0</td>\n",
       "      <td>New</td>\n",
       "      <td>63.00</td>\n",
       "    </tr>\n",
       "    <tr>\n",
       "      <th>4</th>\n",
       "      <td>3.0</td>\n",
       "      <td>1</td>\n",
       "      <td>Karia Indrayu Enclave II</td>\n",
       "      <td>hingne Khurd</td>\n",
       "      <td>489</td>\n",
       "      <td>Ready To Move</td>\n",
       "      <td>1</td>\n",
       "      <td>Resale</td>\n",
       "      <td>36.00</td>\n",
       "    </tr>\n",
       "  </tbody>\n",
       "</table>\n",
       "</div>"
      ],
      "text/plain": [
       "   Unnamed: 0  Size                              Society      Location  \\\n",
       "0         NaN     2                   Millennium Pacific     Tathawade   \n",
       "1         0.0     3  Bhandari 43 Privet Drive C Building      Balewadi   \n",
       "2         1.0     2                       Malpani Cereza     Tathawade   \n",
       "3         2.0     2                   Kohinoor Viva City       Dhanori   \n",
       "4         3.0     1             Karia Indrayu Enclave II  hingne Khurd   \n",
       "\n",
       "   total_sqft   Available by  Age(in yrs)  Status  Price(In Lakhs)  \n",
       "0         650       Sep 2025            0     New            62.77  \n",
       "1        1465       Aug 2023            0     New           228.00  \n",
       "2        1012       Feb 2023            0     New            45.50  \n",
       "3         734       Dec 2026            0     New            63.00  \n",
       "4         489  Ready To Move            1  Resale            36.00  "
      ]
     },
     "execution_count": 24,
     "metadata": {},
     "output_type": "execute_result"
    }
   ],
   "source": [
    "df=pd.read_csv(\"housedataset.csv\")\n",
    "df.head()"
   ]
  },
  {
   "cell_type": "code",
   "execution_count": null,
   "id": "ad344dfa-fb52-48cc-adb7-e696646e5beb",
   "metadata": {},
   "outputs": [],
   "source": []
  },
  {
   "cell_type": "code",
   "execution_count": 25,
   "id": "7f49d01e-1053-411d-a6db-ddd3e03e771a",
   "metadata": {},
   "outputs": [
    {
     "data": {
      "text/plain": [
       "Index(['Size', 'Society', 'Location', 'total_sqft', 'Available by',\n",
       "       'Age(in yrs)', 'Status', 'Price(In Lakhs)'],\n",
       "      dtype='object')"
      ]
     },
     "execution_count": 25,
     "metadata": {},
     "output_type": "execute_result"
    }
   ],
   "source": [
    "df.drop ('Unnamed: 0' , axis=1, inplace=True)\n",
    "df.columns"
   ]
  },
  {
   "cell_type": "markdown",
   "id": "db12d744-fa9c-4d48-8dbf-57832bf29853",
   "metadata": {},
   "source": [
    "#### Exploratory Data Analysis"
   ]
  },
  {
   "cell_type": "code",
   "execution_count": 26,
   "id": "ec543450-de11-4286-9845-08beab4d2263",
   "metadata": {},
   "outputs": [
    {
     "name": "stdout",
     "output_type": "stream",
     "text": [
      "<class 'pandas.core.frame.DataFrame'>\n",
      "RangeIndex: 60565 entries, 0 to 60564\n",
      "Data columns (total 8 columns):\n",
      " #   Column           Non-Null Count  Dtype  \n",
      "---  ------           --------------  -----  \n",
      " 0   Size             60565 non-null  int64  \n",
      " 1   Society          60565 non-null  object \n",
      " 2   Location         60565 non-null  object \n",
      " 3   total_sqft       60565 non-null  int64  \n",
      " 4   Available by     60565 non-null  object \n",
      " 5   Age(in yrs)      60565 non-null  int64  \n",
      " 6   Status           60565 non-null  object \n",
      " 7   Price(In Lakhs)  60565 non-null  float64\n",
      "dtypes: float64(1), int64(3), object(4)\n",
      "memory usage: 3.7+ MB\n"
     ]
    }
   ],
   "source": [
    "df.info()"
   ]
  },
  {
   "cell_type": "code",
   "execution_count": 27,
   "id": "2f876ede-09b0-4d75-a032-0614a4642fd7",
   "metadata": {},
   "outputs": [
    {
     "data": {
      "text/html": [
       "<div>\n",
       "<style scoped>\n",
       "    .dataframe tbody tr th:only-of-type {\n",
       "        vertical-align: middle;\n",
       "    }\n",
       "\n",
       "    .dataframe tbody tr th {\n",
       "        vertical-align: top;\n",
       "    }\n",
       "\n",
       "    .dataframe thead th {\n",
       "        text-align: right;\n",
       "    }\n",
       "</style>\n",
       "<table border=\"1\" class=\"dataframe\">\n",
       "  <thead>\n",
       "    <tr style=\"text-align: right;\">\n",
       "      <th></th>\n",
       "      <th>Size</th>\n",
       "      <th>Society</th>\n",
       "      <th>Location</th>\n",
       "      <th>total_sqft</th>\n",
       "      <th>Available by</th>\n",
       "      <th>Age(in yrs)</th>\n",
       "      <th>Status</th>\n",
       "      <th>Price(In Lakhs)</th>\n",
       "    </tr>\n",
       "  </thead>\n",
       "  <tbody>\n",
       "    <tr>\n",
       "      <th>0</th>\n",
       "      <td>2</td>\n",
       "      <td>Millennium Pacific</td>\n",
       "      <td>Tathawade</td>\n",
       "      <td>650</td>\n",
       "      <td>Sep 2025</td>\n",
       "      <td>0</td>\n",
       "      <td>New</td>\n",
       "      <td>62.77</td>\n",
       "    </tr>\n",
       "    <tr>\n",
       "      <th>1</th>\n",
       "      <td>3</td>\n",
       "      <td>Bhandari 43 Privet Drive C Building</td>\n",
       "      <td>Balewadi</td>\n",
       "      <td>1465</td>\n",
       "      <td>Aug 2023</td>\n",
       "      <td>0</td>\n",
       "      <td>New</td>\n",
       "      <td>228.00</td>\n",
       "    </tr>\n",
       "    <tr>\n",
       "      <th>2</th>\n",
       "      <td>2</td>\n",
       "      <td>Malpani Cereza</td>\n",
       "      <td>Tathawade</td>\n",
       "      <td>1012</td>\n",
       "      <td>Feb 2023</td>\n",
       "      <td>0</td>\n",
       "      <td>New</td>\n",
       "      <td>45.50</td>\n",
       "    </tr>\n",
       "    <tr>\n",
       "      <th>3</th>\n",
       "      <td>2</td>\n",
       "      <td>Kohinoor Viva City</td>\n",
       "      <td>Dhanori</td>\n",
       "      <td>734</td>\n",
       "      <td>Dec 2026</td>\n",
       "      <td>0</td>\n",
       "      <td>New</td>\n",
       "      <td>63.00</td>\n",
       "    </tr>\n",
       "    <tr>\n",
       "      <th>4</th>\n",
       "      <td>1</td>\n",
       "      <td>Karia Indrayu Enclave II</td>\n",
       "      <td>hingne Khurd</td>\n",
       "      <td>489</td>\n",
       "      <td>Ready To Move</td>\n",
       "      <td>1</td>\n",
       "      <td>Resale</td>\n",
       "      <td>36.00</td>\n",
       "    </tr>\n",
       "    <tr>\n",
       "      <th>...</th>\n",
       "      <td>...</td>\n",
       "      <td>...</td>\n",
       "      <td>...</td>\n",
       "      <td>...</td>\n",
       "      <td>...</td>\n",
       "      <td>...</td>\n",
       "      <td>...</td>\n",
       "      <td>...</td>\n",
       "    </tr>\n",
       "    <tr>\n",
       "      <th>60560</th>\n",
       "      <td>3</td>\n",
       "      <td>Unique K Pune</td>\n",
       "      <td>Bavdhan</td>\n",
       "      <td>1116</td>\n",
       "      <td>Aug 2027</td>\n",
       "      <td>0</td>\n",
       "      <td>New</td>\n",
       "      <td>131.00</td>\n",
       "    </tr>\n",
       "    <tr>\n",
       "      <th>60561</th>\n",
       "      <td>3</td>\n",
       "      <td>Shapoorji Pallonji Sensorium Phase VI</td>\n",
       "      <td>Hinjewadi</td>\n",
       "      <td>1500</td>\n",
       "      <td>Sep 2026</td>\n",
       "      <td>0</td>\n",
       "      <td>New</td>\n",
       "      <td>100.00</td>\n",
       "    </tr>\n",
       "    <tr>\n",
       "      <th>60562</th>\n",
       "      <td>2</td>\n",
       "      <td>Godrej Rejuve</td>\n",
       "      <td>Mundhwa</td>\n",
       "      <td>707</td>\n",
       "      <td>Aug 2023</td>\n",
       "      <td>0</td>\n",
       "      <td>New</td>\n",
       "      <td>76.31</td>\n",
       "    </tr>\n",
       "    <tr>\n",
       "      <th>60563</th>\n",
       "      <td>2</td>\n",
       "      <td>Dreams Avani</td>\n",
       "      <td>Manjari</td>\n",
       "      <td>887</td>\n",
       "      <td>Ready To Move</td>\n",
       "      <td>6</td>\n",
       "      <td>Resale</td>\n",
       "      <td>41.50</td>\n",
       "    </tr>\n",
       "    <tr>\n",
       "      <th>60564</th>\n",
       "      <td>4</td>\n",
       "      <td>Marvel Piazza Phase 01</td>\n",
       "      <td>Viman Nagar</td>\n",
       "      <td>1884</td>\n",
       "      <td>Aug 2023</td>\n",
       "      <td>0</td>\n",
       "      <td>New</td>\n",
       "      <td>515.00</td>\n",
       "    </tr>\n",
       "  </tbody>\n",
       "</table>\n",
       "<p>60565 rows × 8 columns</p>\n",
       "</div>"
      ],
      "text/plain": [
       "       Size                                Society      Location  total_sqft  \\\n",
       "0         2                     Millennium Pacific     Tathawade         650   \n",
       "1         3    Bhandari 43 Privet Drive C Building      Balewadi        1465   \n",
       "2         2                         Malpani Cereza     Tathawade        1012   \n",
       "3         2                     Kohinoor Viva City       Dhanori         734   \n",
       "4         1               Karia Indrayu Enclave II  hingne Khurd         489   \n",
       "...     ...                                    ...           ...         ...   \n",
       "60560     3                          Unique K Pune       Bavdhan        1116   \n",
       "60561     3  Shapoorji Pallonji Sensorium Phase VI     Hinjewadi        1500   \n",
       "60562     2                          Godrej Rejuve       Mundhwa         707   \n",
       "60563     2                           Dreams Avani       Manjari         887   \n",
       "60564     4                 Marvel Piazza Phase 01   Viman Nagar        1884   \n",
       "\n",
       "        Available by  Age(in yrs)  Status  Price(In Lakhs)  \n",
       "0           Sep 2025            0     New            62.77  \n",
       "1           Aug 2023            0     New           228.00  \n",
       "2           Feb 2023            0     New            45.50  \n",
       "3           Dec 2026            0     New            63.00  \n",
       "4      Ready To Move            1  Resale            36.00  \n",
       "...              ...          ...     ...              ...  \n",
       "60560       Aug 2027            0     New           131.00  \n",
       "60561       Sep 2026            0     New           100.00  \n",
       "60562       Aug 2023            0     New            76.31  \n",
       "60563  Ready To Move            6  Resale            41.50  \n",
       "60564       Aug 2023            0     New           515.00  \n",
       "\n",
       "[60565 rows x 8 columns]"
      ]
     },
     "execution_count": 27,
     "metadata": {},
     "output_type": "execute_result"
    }
   ],
   "source": [
    "df"
   ]
  },
  {
   "cell_type": "code",
   "execution_count": 28,
   "id": "0977ba28-bde4-40c9-9350-53f3346fbfff",
   "metadata": {},
   "outputs": [
    {
     "data": {
      "text/plain": [
       "Available by\n",
       "Ready To Move    21642\n",
       " Dec 2025         3123\n",
       " Dec 2026         1937\n",
       " Nov 2023         1852\n",
       " Nov 2026         1568\n",
       "                 ...  \n",
       " Mar 2020            3\n",
       " Apr 2021            3\n",
       " Feb 2020            1\n",
       " Sep 2020            1\n",
       " Apr 2020            1\n",
       "Name: count, Length: 117, dtype: int64"
      ]
     },
     "execution_count": 28,
     "metadata": {},
     "output_type": "execute_result"
    }
   ],
   "source": [
    "# df['Society'].unique()\n",
    "# df['Location'].value_counts()\n",
    "df['Available by'].value_counts()"
   ]
  },
  {
   "cell_type": "code",
   "execution_count": 29,
   "id": "d3dee39a-5d75-41b7-8420-9e0359cfb654",
   "metadata": {},
   "outputs": [],
   "source": [
    "# df['Siize']=df['Siize'].astype(int)"
   ]
  },
  {
   "cell_type": "markdown",
   "id": "bfd852b0-63c0-48df-ac18-0bd091a02542",
   "metadata": {},
   "source": [
    "#### Label Encoding"
   ]
  },
  {
   "cell_type": "code",
   "execution_count": 30,
   "id": "8b9d58d7-2f71-4db0-a463-094401902dff",
   "metadata": {},
   "outputs": [],
   "source": [
    "from sklearn.preprocessing import LabelEncoder\n",
    "cols=['Society','Location','Available by','Status']\n",
    "df[cols]=df[cols].apply(LabelEncoder().fit_transform)\n",
    "encoder = LabelEncoder()\n",
    "with open('label_encoder.pkl', 'wb') as file:\n",
    "    pickle.dump(encoder, file)"
   ]
  },
  {
   "cell_type": "code",
   "execution_count": 31,
   "id": "d4794fe2-fd4e-4fd4-b4cf-729c18506b87",
   "metadata": {},
   "outputs": [
    {
     "data": {
      "text/html": [
       "<div>\n",
       "<style scoped>\n",
       "    .dataframe tbody tr th:only-of-type {\n",
       "        vertical-align: middle;\n",
       "    }\n",
       "\n",
       "    .dataframe tbody tr th {\n",
       "        vertical-align: top;\n",
       "    }\n",
       "\n",
       "    .dataframe thead th {\n",
       "        text-align: right;\n",
       "    }\n",
       "</style>\n",
       "<table border=\"1\" class=\"dataframe\">\n",
       "  <thead>\n",
       "    <tr style=\"text-align: right;\">\n",
       "      <th></th>\n",
       "      <th>Size</th>\n",
       "      <th>Society</th>\n",
       "      <th>Location</th>\n",
       "      <th>total_sqft</th>\n",
       "      <th>Available by</th>\n",
       "      <th>Age(in yrs)</th>\n",
       "      <th>Status</th>\n",
       "      <th>Price(In Lakhs)</th>\n",
       "    </tr>\n",
       "  </thead>\n",
       "  <tbody>\n",
       "    <tr>\n",
       "      <th>0</th>\n",
       "      <td>2</td>\n",
       "      <td>2470</td>\n",
       "      <td>292</td>\n",
       "      <td>650</td>\n",
       "      <td>111</td>\n",
       "      <td>0</td>\n",
       "      <td>0</td>\n",
       "      <td>62.77</td>\n",
       "    </tr>\n",
       "    <tr>\n",
       "      <th>1</th>\n",
       "      <td>3</td>\n",
       "      <td>493</td>\n",
       "      <td>22</td>\n",
       "      <td>1465</td>\n",
       "      <td>12</td>\n",
       "      <td>0</td>\n",
       "      <td>0</td>\n",
       "      <td>228.00</td>\n",
       "    </tr>\n",
       "    <tr>\n",
       "      <th>2</th>\n",
       "      <td>2</td>\n",
       "      <td>2277</td>\n",
       "      <td>292</td>\n",
       "      <td>1012</td>\n",
       "      <td>32</td>\n",
       "      <td>0</td>\n",
       "      <td>0</td>\n",
       "      <td>45.50</td>\n",
       "    </tr>\n",
       "    <tr>\n",
       "      <th>3</th>\n",
       "      <td>2</td>\n",
       "      <td>1740</td>\n",
       "      <td>72</td>\n",
       "      <td>734</td>\n",
       "      <td>24</td>\n",
       "      <td>0</td>\n",
       "      <td>0</td>\n",
       "      <td>63.00</td>\n",
       "    </tr>\n",
       "    <tr>\n",
       "      <th>4</th>\n",
       "      <td>1</td>\n",
       "      <td>1624</td>\n",
       "      <td>338</td>\n",
       "      <td>489</td>\n",
       "      <td>116</td>\n",
       "      <td>1</td>\n",
       "      <td>1</td>\n",
       "      <td>36.00</td>\n",
       "    </tr>\n",
       "  </tbody>\n",
       "</table>\n",
       "</div>"
      ],
      "text/plain": [
       "   Size  Society  Location  total_sqft  Available by  Age(in yrs)  Status  \\\n",
       "0     2     2470       292         650           111            0       0   \n",
       "1     3      493        22        1465            12            0       0   \n",
       "2     2     2277       292        1012            32            0       0   \n",
       "3     2     1740        72         734            24            0       0   \n",
       "4     1     1624       338         489           116            1       1   \n",
       "\n",
       "   Price(In Lakhs)  \n",
       "0            62.77  \n",
       "1           228.00  \n",
       "2            45.50  \n",
       "3            63.00  \n",
       "4            36.00  "
      ]
     },
     "execution_count": 31,
     "metadata": {},
     "output_type": "execute_result"
    }
   ],
   "source": [
    "df.head()"
   ]
  },
  {
   "cell_type": "markdown",
   "id": "3c8038d7-d575-4330-ba45-80b9da98fee9",
   "metadata": {},
   "source": [
    "#### Checking Correlation"
   ]
  },
  {
   "cell_type": "code",
   "execution_count": 32,
   "id": "752cf3e4-36c9-4b6e-a0cf-475a2e2887f3",
   "metadata": {},
   "outputs": [
    {
     "data": {
      "text/html": [
       "<div>\n",
       "<style scoped>\n",
       "    .dataframe tbody tr th:only-of-type {\n",
       "        vertical-align: middle;\n",
       "    }\n",
       "\n",
       "    .dataframe tbody tr th {\n",
       "        vertical-align: top;\n",
       "    }\n",
       "\n",
       "    .dataframe thead th {\n",
       "        text-align: right;\n",
       "    }\n",
       "</style>\n",
       "<table border=\"1\" class=\"dataframe\">\n",
       "  <thead>\n",
       "    <tr style=\"text-align: right;\">\n",
       "      <th></th>\n",
       "      <th>Size</th>\n",
       "      <th>Society</th>\n",
       "      <th>Location</th>\n",
       "      <th>total_sqft</th>\n",
       "      <th>Available by</th>\n",
       "      <th>Age(in yrs)</th>\n",
       "      <th>Status</th>\n",
       "      <th>Price(In Lakhs)</th>\n",
       "    </tr>\n",
       "  </thead>\n",
       "  <tbody>\n",
       "    <tr>\n",
       "      <th>Size</th>\n",
       "      <td>1.000000</td>\n",
       "      <td>-0.029465</td>\n",
       "      <td>-0.076538</td>\n",
       "      <td>0.050987</td>\n",
       "      <td>-0.010025</td>\n",
       "      <td>0.001369</td>\n",
       "      <td>-0.022112</td>\n",
       "      <td>0.617463</td>\n",
       "    </tr>\n",
       "    <tr>\n",
       "      <th>Society</th>\n",
       "      <td>-0.029465</td>\n",
       "      <td>1.000000</td>\n",
       "      <td>0.032307</td>\n",
       "      <td>-0.008748</td>\n",
       "      <td>-0.020023</td>\n",
       "      <td>0.004852</td>\n",
       "      <td>-0.017978</td>\n",
       "      <td>-0.028734</td>\n",
       "    </tr>\n",
       "    <tr>\n",
       "      <th>Location</th>\n",
       "      <td>-0.076538</td>\n",
       "      <td>0.032307</td>\n",
       "      <td>1.000000</td>\n",
       "      <td>-0.006636</td>\n",
       "      <td>-0.005714</td>\n",
       "      <td>0.003915</td>\n",
       "      <td>0.000964</td>\n",
       "      <td>-0.138816</td>\n",
       "    </tr>\n",
       "    <tr>\n",
       "      <th>total_sqft</th>\n",
       "      <td>0.050987</td>\n",
       "      <td>-0.008748</td>\n",
       "      <td>-0.006636</td>\n",
       "      <td>1.000000</td>\n",
       "      <td>-0.001251</td>\n",
       "      <td>-0.000057</td>\n",
       "      <td>0.002370</td>\n",
       "      <td>0.170019</td>\n",
       "    </tr>\n",
       "    <tr>\n",
       "      <th>Available by</th>\n",
       "      <td>-0.010025</td>\n",
       "      <td>-0.020023</td>\n",
       "      <td>-0.005714</td>\n",
       "      <td>-0.001251</td>\n",
       "      <td>1.000000</td>\n",
       "      <td>0.012769</td>\n",
       "      <td>0.751081</td>\n",
       "      <td>0.013207</td>\n",
       "    </tr>\n",
       "    <tr>\n",
       "      <th>Age(in yrs)</th>\n",
       "      <td>0.001369</td>\n",
       "      <td>0.004852</td>\n",
       "      <td>0.003915</td>\n",
       "      <td>-0.000057</td>\n",
       "      <td>0.012769</td>\n",
       "      <td>1.000000</td>\n",
       "      <td>0.017001</td>\n",
       "      <td>-0.004024</td>\n",
       "    </tr>\n",
       "    <tr>\n",
       "      <th>Status</th>\n",
       "      <td>-0.022112</td>\n",
       "      <td>-0.017978</td>\n",
       "      <td>0.000964</td>\n",
       "      <td>0.002370</td>\n",
       "      <td>0.751081</td>\n",
       "      <td>0.017001</td>\n",
       "      <td>1.000000</td>\n",
       "      <td>0.013625</td>\n",
       "    </tr>\n",
       "    <tr>\n",
       "      <th>Price(In Lakhs)</th>\n",
       "      <td>0.617463</td>\n",
       "      <td>-0.028734</td>\n",
       "      <td>-0.138816</td>\n",
       "      <td>0.170019</td>\n",
       "      <td>0.013207</td>\n",
       "      <td>-0.004024</td>\n",
       "      <td>0.013625</td>\n",
       "      <td>1.000000</td>\n",
       "    </tr>\n",
       "  </tbody>\n",
       "</table>\n",
       "</div>"
      ],
      "text/plain": [
       "                     Size   Society  Location  total_sqft  Available by  \\\n",
       "Size             1.000000 -0.029465 -0.076538    0.050987     -0.010025   \n",
       "Society         -0.029465  1.000000  0.032307   -0.008748     -0.020023   \n",
       "Location        -0.076538  0.032307  1.000000   -0.006636     -0.005714   \n",
       "total_sqft       0.050987 -0.008748 -0.006636    1.000000     -0.001251   \n",
       "Available by    -0.010025 -0.020023 -0.005714   -0.001251      1.000000   \n",
       "Age(in yrs)      0.001369  0.004852  0.003915   -0.000057      0.012769   \n",
       "Status          -0.022112 -0.017978  0.000964    0.002370      0.751081   \n",
       "Price(In Lakhs)  0.617463 -0.028734 -0.138816    0.170019      0.013207   \n",
       "\n",
       "                 Age(in yrs)    Status  Price(In Lakhs)  \n",
       "Size                0.001369 -0.022112         0.617463  \n",
       "Society             0.004852 -0.017978        -0.028734  \n",
       "Location            0.003915  0.000964        -0.138816  \n",
       "total_sqft         -0.000057  0.002370         0.170019  \n",
       "Available by        0.012769  0.751081         0.013207  \n",
       "Age(in yrs)         1.000000  0.017001        -0.004024  \n",
       "Status              0.017001  1.000000         0.013625  \n",
       "Price(In Lakhs)    -0.004024  0.013625         1.000000  "
      ]
     },
     "execution_count": 32,
     "metadata": {},
     "output_type": "execute_result"
    }
   ],
   "source": [
    "df.corr()"
   ]
  },
  {
   "cell_type": "code",
   "execution_count": 33,
   "id": "11f9d17a-189d-492b-9347-aba9bfea0d8f",
   "metadata": {},
   "outputs": [
    {
     "data": {
      "text/plain": [
       "Index(['Size', 'Society', 'Location', 'total_sqft', 'Available by', 'Status'], dtype='object')"
      ]
     },
     "execution_count": 33,
     "metadata": {},
     "output_type": "execute_result"
    }
   ],
   "source": [
    "x=df.drop(['Price(In Lakhs)', 'Age(in yrs)'],axis=1)\n",
    "y=df['Price(In Lakhs)']\n",
    "x.columns"
   ]
  },
  {
   "cell_type": "code",
   "execution_count": 34,
   "id": "ec2c5bbd-dbf3-4ca0-bfcd-ee96ae48a6a6",
   "metadata": {},
   "outputs": [],
   "source": [
    "from sklearn.model_selection import train_test_split\n",
    "x_train,x_test,y_train,y_test=train_test_split(x,y,train_size=0.7,random_state=12345)"
   ]
  },
  {
   "cell_type": "code",
   "execution_count": 35,
   "id": "8c882d4b-24a9-499c-896e-1964552bda0f",
   "metadata": {},
   "outputs": [],
   "source": [
    "import pickle\n",
    "\n",
    "def save_model(model, name):\n",
    "    with open(name, 'wb') as file:\n",
    "        pickle.dump(model, file)"
   ]
  },
  {
   "cell_type": "code",
   "execution_count": 36,
   "id": "fe014d73-8722-44b5-a96a-b2eb242603f6",
   "metadata": {},
   "outputs": [],
   "source": [
    "def dectree():\n",
    "    from sklearn.tree import DecisionTreeRegressor\n",
    "    model = DecisionTreeRegressor()\n",
    "    model.fit(x_train,y_train)\n",
    "    return model"
   ]
  },
  {
   "cell_type": "code",
   "execution_count": 37,
   "id": "9fb939e4-a6ba-4b91-8917-caa7a90e4317",
   "metadata": {},
   "outputs": [],
   "source": [
    "def ranfor():\n",
    "    from sklearn.ensemble import RandomForestRegressor\n",
    "    model = RandomForestRegressor()\n",
    "    model.fit(x_train,y_train)\n",
    "    save_model(model, 'rf.pkl')\n",
    "    return model"
   ]
  },
  {
   "cell_type": "code",
   "execution_count": 38,
   "id": "2034ede9-1556-4347-8468-a149204cc6e9",
   "metadata": {},
   "outputs": [],
   "source": [
    "def catboo():\n",
    "    from catboost import CatBoostRegressor\n",
    "    model = CatBoostRegressor(verbose=False)\n",
    "    model.fit(x_train,y_train)\n",
    "    return model"
   ]
  },
  {
   "cell_type": "code",
   "execution_count": 39,
   "id": "3e68b914-4fec-418a-8734-3730344ee923",
   "metadata": {},
   "outputs": [],
   "source": [
    "def xgboo():\n",
    "    from xgboost import XGBRegressor\n",
    "    model = XGBRegressor()\n",
    "    model.fit(x_train,y_train)\n",
    "    # save_model(model, 'xgb.pkl')\n",
    "    return model"
   ]
  },
  {
   "cell_type": "code",
   "execution_count": 40,
   "id": "b7b34ac5-1ade-4028-a5fa-2bd1c255c15c",
   "metadata": {},
   "outputs": [],
   "source": [
    "def linear_regression():\n",
    "    from sklearn.linear_model import LinearRegression\n",
    "    model = LinearRegression()\n",
    "    model.fit(x_train,y_train)\n",
    "    return model"
   ]
  },
  {
   "cell_type": "code",
   "execution_count": 41,
   "id": "1d995daf-8d05-472c-add2-e2394f70005b",
   "metadata": {},
   "outputs": [],
   "source": [
    "def svm():\n",
    "    from sklearn.svm import SVR\n",
    "    model = SVR()\n",
    "    model.fit(x_train,y_train)\n",
    "    return model"
   ]
  },
  {
   "cell_type": "code",
   "execution_count": 42,
   "id": "ec094585-43d9-45cb-b510-ec2b5551b7ba",
   "metadata": {},
   "outputs": [
    {
     "name": "stderr",
     "output_type": "stream",
     "text": [
      "/usr/local/lib/python3.10/dist-packages/xgboost/data.py:335: FutureWarning: is_sparse is deprecated and will be removed in a future version. Check `isinstance(dtype, pd.SparseDtype)` instead.\n",
      "  if is_sparse(dtype):\n",
      "/usr/local/lib/python3.10/dist-packages/xgboost/data.py:338: FutureWarning: is_categorical_dtype is deprecated and will be removed in a future version. Use isinstance(dtype, CategoricalDtype) instead\n",
      "  is_categorical_dtype(dtype) or is_pa_ext_categorical_dtype(dtype)\n",
      "/usr/local/lib/python3.10/dist-packages/xgboost/data.py:384: FutureWarning: is_categorical_dtype is deprecated and will be removed in a future version. Use isinstance(dtype, CategoricalDtype) instead\n",
      "  if is_categorical_dtype(dtype):\n",
      "/usr/local/lib/python3.10/dist-packages/xgboost/data.py:359: FutureWarning: is_categorical_dtype is deprecated and will be removed in a future version. Use isinstance(dtype, CategoricalDtype) instead\n",
      "  return is_int or is_bool or is_float or is_categorical_dtype(dtype)\n",
      "/usr/local/lib/python3.10/dist-packages/xgboost/data.py:520: FutureWarning: is_sparse is deprecated and will be removed in a future version. Check `isinstance(dtype, pd.SparseDtype)` instead.\n",
      "  if is_sparse(data):\n"
     ]
    }
   ],
   "source": [
    "DecisionTree = dectree()\n",
    "RandomForest = ranfor()\n",
    "CatBoost = catboo()\n",
    "XGBoost = xgboo()\n",
    "LinearRegression = linear_regression()\n",
    "Svm = svm()"
   ]
  },
  {
   "cell_type": "code",
   "execution_count": 43,
   "id": "361ee07c-3895-4e3a-94c9-8794bceefbd9",
   "metadata": {},
   "outputs": [],
   "source": [
    "def model_eval(model):\n",
    "    y_true=y_test\n",
    "    y_pred=model.predict(x_test)\n",
    "    from sklearn.metrics import mean_absolute_error , mean_squared_error , r2_score\n",
    "    mae = mean_absolute_error(y_true , y_pred)\n",
    "    print(mae)\n",
    "    mse = mean_squared_error(y_true , y_pred)\n",
    "    print(mse)\n",
    "    r2 = r2_score(y_pred , y_true)\n",
    "    print(r2*100)\n",
    "    \n",
    "    \n",
    "    "
   ]
  },
  {
   "cell_type": "code",
   "execution_count": 44,
   "id": "ffa25f49-9df5-4290-8e68-15ca2bc33066",
   "metadata": {},
   "outputs": [
    {
     "name": "stdout",
     "output_type": "stream",
     "text": [
      "17.1850692345059\n",
      "1225.3212827947016\n",
      "84.59644570207568\n"
     ]
    }
   ],
   "source": [
    "model_eval(CatBoost)"
   ]
  },
  {
   "cell_type": "code",
   "execution_count": 45,
   "id": "35b593d3-6159-4816-8c83-4f8bfb055dd1",
   "metadata": {},
   "outputs": [
    {
     "name": "stdout",
     "output_type": "stream",
     "text": [
      "13.047030776790628\n",
      "1668.597505053313\n",
      "82.409000205972\n"
     ]
    }
   ],
   "source": [
    "model_eval(DecisionTree)"
   ]
  },
  {
   "cell_type": "code",
   "execution_count": 46,
   "id": "724088cf-e2ef-42fc-adcf-4a00462cd7d6",
   "metadata": {},
   "outputs": [
    {
     "name": "stdout",
     "output_type": "stream",
     "text": [
      "13.007431028654857\n",
      "1021.1546633126287\n",
      "87.06346599565497\n"
     ]
    }
   ],
   "source": [
    "model_eval(RandomForest)"
   ]
  },
  {
   "cell_type": "code",
   "execution_count": 47,
   "id": "12fd7de5-dcf9-49da-abf6-13f8163e3946",
   "metadata": {},
   "outputs": [
    {
     "name": "stdout",
     "output_type": "stream",
     "text": [
      "16.473726983477142\n",
      "1248.2740167181698\n",
      "85.00206804762924\n"
     ]
    },
    {
     "name": "stderr",
     "output_type": "stream",
     "text": [
      "/usr/local/lib/python3.10/dist-packages/xgboost/data.py:335: FutureWarning: is_sparse is deprecated and will be removed in a future version. Check `isinstance(dtype, pd.SparseDtype)` instead.\n",
      "  if is_sparse(dtype):\n",
      "/usr/local/lib/python3.10/dist-packages/xgboost/data.py:338: FutureWarning: is_categorical_dtype is deprecated and will be removed in a future version. Use isinstance(dtype, CategoricalDtype) instead\n",
      "  is_categorical_dtype(dtype) or is_pa_ext_categorical_dtype(dtype)\n",
      "/usr/local/lib/python3.10/dist-packages/xgboost/data.py:384: FutureWarning: is_categorical_dtype is deprecated and will be removed in a future version. Use isinstance(dtype, CategoricalDtype) instead\n",
      "  if is_categorical_dtype(dtype):\n",
      "/usr/local/lib/python3.10/dist-packages/xgboost/data.py:359: FutureWarning: is_categorical_dtype is deprecated and will be removed in a future version. Use isinstance(dtype, CategoricalDtype) instead\n",
      "  return is_int or is_bool or is_float or is_categorical_dtype(dtype)\n"
     ]
    }
   ],
   "source": [
    "model_eval(XGBoost)"
   ]
  },
  {
   "cell_type": "code",
   "execution_count": 48,
   "id": "3510323d-1952-4c62-b50b-96d3e924a949",
   "metadata": {},
   "outputs": [
    {
     "name": "stdout",
     "output_type": "stream",
     "text": [
      "39.467902630541595\n",
      "5151.684715851846\n",
      "-35.56135960554514\n"
     ]
    }
   ],
   "source": [
    "model_eval(LinearRegression)"
   ]
  },
  {
   "cell_type": "code",
   "execution_count": 49,
   "id": "98e191d9-3e62-40b3-b202-73a4f499dae0",
   "metadata": {},
   "outputs": [
    {
     "name": "stdout",
     "output_type": "stream",
     "text": [
      "29.475387048261265\n",
      "3850.3444887760115\n",
      "-44.89554835865333\n"
     ]
    }
   ],
   "source": [
    "model_eval(Svm)"
   ]
  },
  {
   "cell_type": "code",
   "execution_count": null,
   "id": "8326c967-a590-42b6-88b6-1c9569a7bb8b",
   "metadata": {},
   "outputs": [],
   "source": []
  }
 ],
 "metadata": {
  "kernelspec": {
   "display_name": "Python 3 (ipykernel)",
   "language": "python",
   "name": "python3"
  },
  "language_info": {
   "codemirror_mode": {
    "name": "ipython",
    "version": 3
   },
   "file_extension": ".py",
   "mimetype": "text/x-python",
   "name": "python",
   "nbconvert_exporter": "python",
   "pygments_lexer": "ipython3",
   "version": "3.10.12"
  }
 },
 "nbformat": 4,
 "nbformat_minor": 5
}
